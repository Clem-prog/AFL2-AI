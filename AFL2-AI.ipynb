{
 "cells": [
  {
   "cell_type": "code",
   "execution_count": null,
   "id": "f04ab1c1",
   "metadata": {},
   "outputs": [],
   "source": [
    "import math\n",
    "import heapq"
   ]
  },
  {
   "cell_type": "code",
   "execution_count": 3,
   "id": "1ddab38d",
   "metadata": {},
   "outputs": [],
   "source": [
    "graph = {\n",
    "    'Indonesia': {'German': 200, 'America': 150, 'Singapore': 30},\n",
    "    'German': {'Indonesia': 200, 'America': 230, 'Italy': 40, 'Brazil': 250},\n",
    "    'America': {'German': 230, 'Indonesia': 150, 'Singapore': 100, 'Spain': 60, 'Japan': 80, 'Italy': 95},\n",
    "    'Singapore': {'Indonesia': 30, 'America': 100, 'Spain': 75},\n",
    "    'Spain': {'Singapore': 75, 'America': 60, 'Japan': 90},\n",
    "    'Japan': {'Spain': 90, 'America': 80, 'Atlantis': 110},\n",
    "    'Atlantis': {'Japan': 110, 'America': 100, 'Italy': 70, 'Africa': 170},\n",
    "    'Italy': {'German': 40, 'Brazil': 215, 'Korea': 240, 'Africa': 140, 'Atlantis': 70, 'America': 95},\n",
    "    'Brazil': {'German': 250, 'Italy': 215, 'Korea': 95},\n",
    "    'Korea': {'Brazil': 95, 'Italy': 240, 'Africa': 180},\n",
    "    'Africa': {'Korea': 180, 'Italy': 140, 'Atlantis': 170}\n",
    "}\n",
    "\n",
    "#Coordinates for heuristic\n",
    "positions = {\n",
    "    'Indonesia': (0, 3),\n",
    "    'Singapore': (1, 1),\n",
    "    'Spain': (2, 0),\n",
    "    'America': (2, 2),\n",
    "    'German': (2, 4),\n",
    "    'Italy': (4, 3),\n",
    "    'Brazil': (4, 5),\n",
    "    'Korea': (6, 4),\n",
    "    'Africa': (6, 2),\n",
    "    'Atlantis': (5, 1),\n",
    "    'Japan': (4, 0)\n",
    "}\n",
    "\n",
    "nodes = list(graph.keys())"
   ]
  },
  {
   "cell_type": "code",
   "execution_count": 6,
   "id": "a6459d78",
   "metadata": {},
   "outputs": [],
   "source": [
    "def generate_heuristic(goal):\n",
    "    heuristic = {}\n",
    "    gx, gy = positions[goal]\n",
    "    for node, (x, y) in positions.items():\n",
    "        # Euclidean distance to calculate heuristic since we're using coordinates\n",
    "        heuristic[node] = math.sqrt((x - gx)**2 + (y - gy)**2) * 100\n",
    "    return heuristic"
   ]
  }
 ],
 "metadata": {
  "kernelspec": {
   "display_name": "Python 3",
   "language": "python",
   "name": "python3"
  },
  "language_info": {
   "codemirror_mode": {
    "name": "ipython",
    "version": 3
   },
   "file_extension": ".py",
   "mimetype": "text/x-python",
   "name": "python",
   "nbconvert_exporter": "python",
   "pygments_lexer": "ipython3",
   "version": "3.13.7"
  }
 },
 "nbformat": 4,
 "nbformat_minor": 5
}
