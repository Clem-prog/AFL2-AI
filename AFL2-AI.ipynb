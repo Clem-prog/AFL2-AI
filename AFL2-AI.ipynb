{
 "cells": [
  {
   "cell_type": "code",
   "execution_count": 50,
   "id": "f04ab1c1",
   "metadata": {},
   "outputs": [],
   "source": [
    "import math\n",
    "import heapq\n",
    "import collections"
   ]
  },
  {
   "cell_type": "code",
   "execution_count": 51,
   "id": "1ddab38d",
   "metadata": {},
   "outputs": [],
   "source": [
    "graph = {\n",
    "    'Indonesia': {'German': 200, 'America': 150, 'Singapore': 30},\n",
    "    'German': {'Indonesia': 200, 'America': 230, 'Italy': 40, 'Brazil': 250},\n",
    "    'America': {'German': 230, 'Indonesia': 150, 'Singapore': 100, 'Spain': 60, 'Japan': 80, 'Italy': 95, 'Atlantis': 100},\n",
    "    'Singapore': {'Indonesia': 30, 'America': 100, 'Spain': 75},\n",
    "    'Spain': {'Singapore': 75, 'America': 60, 'Japan': 90},\n",
    "    'Japan': {'Spain': 90, 'America': 80, 'Atlantis': 110},\n",
    "    'Atlantis': {'Japan': 110, 'America': 100, 'Italy': 70, 'Africa': 170},\n",
    "    'Italy': {'German': 40, 'Brazil': 215, 'Korea': 240, 'Africa': 140, 'Atlantis': 70, 'America': 95},\n",
    "    'Brazil': {'German': 250, 'Italy': 215, 'Korea': 95},\n",
    "    'Korea': {'Brazil': 95, 'Italy': 240, 'Africa': 180},\n",
    "    'Africa': {'Korea': 180, 'Italy': 140, 'Atlantis': 170}\n",
    "}\n",
    "\n",
    "#Coordinates for heuristic\n",
    "positions = {\n",
    "    'Indonesia': (0, 3),\n",
    "    'Singapore': (1, 1),\n",
    "    'Spain': (2, 0),\n",
    "    'America': (2, 2),\n",
    "    'German': (2, 4),\n",
    "    'Italy': (4, 3),\n",
    "    'Brazil': (4, 5),\n",
    "    'Korea': (6, 4),\n",
    "    'Africa': (6, 2),\n",
    "    'Atlantis': (5, 1),\n",
    "    'Japan': (4, 0)\n",
    "}"
   ]
  },
  {
   "cell_type": "code",
   "execution_count": 52,
   "id": "a6459d78",
   "metadata": {},
   "outputs": [],
   "source": [
    "def generate_heuristic(goal):\n",
    "    heuristic = {}\n",
    "    gx, gy = positions[goal]\n",
    "    for node, (x, y) in positions.items():\n",
    "        # Euclidean distance to calculate heuristic since we're using coordinates\n",
    "        heuristic[node] = math.sqrt((x - gx)**2 + (y - gy)**2) * 10\n",
    "    return heuristic"
   ]
  },
  {
   "cell_type": "code",
   "execution_count": 53,
   "id": "2b630a0e",
   "metadata": {},
   "outputs": [],
   "source": [
    "#A* Search Algorithm\n",
    "def astar(graph, start, goal, heuristic):\n",
    "    open_set = []\n",
    "    heapq.heappush(open_set, (0, start))  # (f_cost, node)\n",
    "    came_from = {}\n",
    "\n",
    "    g_cost = {node: math.inf for node in graph}\n",
    "    g_cost[start] = 0\n",
    "\n",
    "    f_cost = {node: math.inf for node in graph}\n",
    "    f_cost[start] = heuristic[start]\n",
    "\n",
    "    while open_set:\n",
    "        current_f, current_node = heapq.heappop(open_set)\n",
    "\n",
    "        if current_f > f_cost[current_node]:\n",
    "            continue\n",
    "\n",
    "        # Goal found — reconstruct path\n",
    "        if current_node == goal:\n",
    "            path = []\n",
    "            while current_node in came_from:\n",
    "                path.append(current_node)\n",
    "                current_node = came_from[current_node]\n",
    "            path.append(start)\n",
    "            return path[::-1], g_cost[goal]\n",
    "\n",
    "        # Explore neighbors\n",
    "        for neighbor, cost in graph[current_node].items():\n",
    "            tentative_g = g_cost[current_node] + cost\n",
    "            if tentative_g < g_cost[neighbor]:\n",
    "                came_from[neighbor] = current_node\n",
    "                g_cost[neighbor] = tentative_g\n",
    "                f_cost[neighbor] = tentative_g + heuristic[neighbor]\n",
    "                heapq.heappush(open_set, (f_cost[neighbor], neighbor))\n",
    "\n",
    "    return None, math.inf"
   ]
  },
  {
   "cell_type": "code",
   "execution_count": null,
   "id": "901dba41",
   "metadata": {},
   "outputs": [],
   "source": [
    "#BFS Seacrh Algorithm\n",
    "\n",
    "def bfs(graph, start, goal):\n",
    "    queue = collections.deque([start])\n",
    "    \n",
    "    came_from = {}\n",
    "    visited = {start}\n",
    "    \n",
    "    while queue:\n",
    "        current_node = queue.popleft()\n",
    "\n",
    "        if current_node == goal:\n",
    "            path = []\n",
    "            total_cost = 0\n",
    "            temp_node = goal\n",
    "\n",
    "            while temp_node in came_from:\n",
    "                path.append(temp_node)\n",
    "                parent_node = came_from[temp_node]\n",
    "                total_cost += graph[parent_node][temp_node]\n",
    "                temp_node = parent_node\n",
    "            path.append(start)\n",
    "            return path[::-1], total_cost\n",
    "\n",
    "        # Explore neighbors\n",
    "        for neighbor, cost in graph[current_node].items():\n",
    "           \n",
    "            if neighbor not in visited:\n",
    "                visited.add(neighbor)\n",
    "                came_from[neighbor] = current_node\n",
    "                queue.append(neighbor)\n",
    "\n",
    "    return None, math.inf"
   ]
  },
  {
   "cell_type": "markdown",
   "id": "c2b7c6a0",
   "metadata": {},
   "source": [
    "# ini cmn buat ngetes ya kak"
   ]
  },
  {
   "cell_type": "code",
   "execution_count": 55,
   "id": "2033f3f1",
   "metadata": {},
   "outputs": [
    {
     "data": {
      "text/plain": [
       "{'Indonesia': 53.85164807134504,\n",
       " 'Singapore': 40.0,\n",
       " 'Spain': 31.622776601683796,\n",
       " 'America': 31.622776601683796,\n",
       " 'German': 42.426406871192846,\n",
       " 'Italy': 22.360679774997898,\n",
       " 'Brazil': 41.23105625617661,\n",
       " 'Korea': 31.622776601683796,\n",
       " 'Africa': 14.142135623730951,\n",
       " 'Atlantis': 0.0,\n",
       " 'Japan': 14.142135623730951}"
      ]
     },
     "execution_count": 55,
     "metadata": {},
     "output_type": "execute_result"
    }
   ],
   "source": [
    "generate_heuristic('Atlantis')"
   ]
  },
  {
   "cell_type": "code",
   "execution_count": null,
   "id": "a80be736",
   "metadata": {},
   "outputs": [
    {
     "name": "stdout",
     "output_type": "stream",
     "text": [
      "--- Running A* Search ---\n",
      "\n",
      "🛫 Shortest path from Japan to America: Japan → America\n",
      "💰 Total travel cost: 80\n",
      "--- Running BFS Search ---\n",
      "🛫 BFS Path from Japan to America: Japan → America\n",
      "💰 Total travel cost: 80\n"
     ]
    }
   ],
   "source": [
    "def main():\n",
    "    start = \"Japan\"\n",
    "    goal = \"Atlantis\"\n",
    "    heuristic = generate_heuristic(\"Atlantis\")\n",
    "    path, cost = astar(graph, start, goal, heuristic)\n",
    "\n",
    "    if path:\n",
    "        print(f\"\\n🛫 Shortest path from {start} to {goal}: {' → '.join(path)}\")\n",
    "        print(f\"💰 Total travel cost: {cost}\")\n",
    "    else:\n",
    "        print(\"No path found between these airports.\")\n",
    "\n",
    "\n",
    "    print(\"--- Running BFS Search  ---\")\n",
    "    bfs_path, bfs_cost = bfs(graph, start, goal) \n",
    "\n",
    "    if bfs_path:\n",
    "        print(f\"🛫 BFS Path from {start} to {goal}: {' → '.join(bfs_path)}\")\n",
    "        print(f\"💰 Total travel cost: {bfs_cost}\")\n",
    "    else:\n",
    "        print(\"No path found between these airports.\")\n",
    "main()"
   ]
  }
 ],
 "metadata": {
  "kernelspec": {
   "display_name": "base",
   "language": "python",
   "name": "python3"
  },
  "language_info": {
   "codemirror_mode": {
    "name": "ipython",
    "version": 3
   },
   "file_extension": ".py",
   "mimetype": "text/x-python",
   "name": "python",
   "nbconvert_exporter": "python",
   "pygments_lexer": "ipython3",
   "version": "3.12.7"
  }
 },
 "nbformat": 4,
 "nbformat_minor": 5
}
